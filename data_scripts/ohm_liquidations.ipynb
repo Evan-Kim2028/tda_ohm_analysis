{
 "cells": [
  {
   "cell_type": "markdown",
   "metadata": {},
   "source": [
    "Query rari and vesta subgraphs for OHM cross-chain liquidations. Compile into daily dataset for further analysis"
   ]
  },
  {
   "cell_type": "code",
   "execution_count": 1,
   "metadata": {},
   "outputs": [],
   "source": [
    "import matplotlib.pyplot as plt\n",
    "import pandas as pd\n",
    "\n",
    "from subgrounds.subgrounds import Subgrounds\n",
    "from subgrounds.subgraph import SyntheticField"
   ]
  },
  {
   "cell_type": "code",
   "execution_count": 2,
   "metadata": {},
   "outputs": [],
   "source": [
    "def get_liq_data(endpoint: str) -> pd.DataFrame:\n",
    "    \"\"\"\n",
    "    Get liquidation data from a standardized messari borrowing/lending subgraph.\n",
    "    standardization schema - https://github.com/messari/subgraphs/blob/master/schema-lending.graphql\n",
    "    \"\"\"\n",
    "    sub = Subgrounds()\n",
    "\n",
    "    # load subground endpoint\n",
    "    liq_sub = sub.load_subgraph(endpoint)\n",
    "\n",
    "    # subgrounds query path\n",
    "    liqs = liq_sub.Query.liquidates\n",
    "\n",
    "    # insert datetime synthetic field\n",
    "    liq_sub.Liquidate.datetime = SyntheticField.datetime_of_timestamp(liq_sub.Liquidate.timestamp)\n",
    "\n",
    "    liq_data = liqs(\n",
    "        orderBy=liqs.timestamp,\n",
    "        orderDirection='desc',\n",
    "        first=10000000 # set to very large number to get all data\n",
    "    )\n",
    "\n",
    "    # add subgraph fields to dataframe columns\n",
    "    liq_df = sub.query_df([\n",
    "        liq_data.datetime,\n",
    "        liq_data.timestamp,\n",
    "        liq_data.hash,\n",
    "        liq_data.blockNumber,\n",
    "        liq_data.liquidator.id,\n",
    "        liq_data.liquidatee.id,\n",
    "        liq_data.market.id,\n",
    "        liq_data.market.name,\n",
    "        liq_data.amount,\n",
    "        liq_data.amountUSD,\n",
    "        liq_data.profitUSD\n",
    "    ])\n",
    "\n",
    "    return liq_df\n",
    "\n",
    "    "
   ]
  },
  {
   "cell_type": "code",
   "execution_count": 3,
   "metadata": {},
   "outputs": [],
   "source": [
    "# get liquidation data from subgraphs\n",
    "rari_liq_df = get_liq_data('https://api.thegraph.com/subgraphs/name/messari/rari-fuse-ethereum') # https://thegraph.com/hosted-service/subgraph/messari/rari-fuse-ethereum\n",
    "vesta_liq_df = get_liq_data('https://api.thegraph.com/subgraphs/name/corerouter/vesta-finance') # https://thegraph.com/hosted-service/subgraph/corerouter/vesta-finance\n"
   ]
  },
  {
   "cell_type": "code",
   "execution_count": 4,
   "metadata": {},
   "outputs": [],
   "source": [
    "# preprocess liquidation dfs\n",
    "def preprocess_liq_df(liq_df: pd.DataFrame, filter: list[str], source: str) -> pd.DataFrame:\n",
    "    \"\"\"\n",
    "    Preprocess liquidation dataframes:\n",
    "    - filter by market\n",
    "    - convert datetime column to daily frequency\n",
    "    - aggregate daily liquidation amounts\n",
    "    \"\"\"\n",
    "    # filter for liquidation tokens of interest\n",
    "    liq_df_filter = liq_df[liq_df['liquidates_market_name'].str.contains(filter)]\n",
    "\n",
    "    # convert liquidates_datetime from str to datetime type\n",
    "    liq_df_filter['liquidates_datetime'] = pd.to_datetime(liq_df_filter['liquidates_datetime'])\n",
    "\n",
    "    # set liquidates_datetime as index\n",
    "    liq_df_filter = liq_df_filter.set_index('liquidates_datetime')\n",
    "\n",
    "    # aggregate datetime to daily\n",
    "    liq_df_filter.index = liq_df_filter.index.floor('D')\n",
    "    daily_liq_df_filter = liq_df_filter.groupby('liquidates_datetime').agg({'liquidates_amountUSD': sum})\n",
    "\n",
    "    # add source of the liquidation data\n",
    "    daily_liq_df_filter['source'] = source\n",
    "\n",
    "    return daily_liq_df_filter"
   ]
  },
  {
   "cell_type": "code",
   "execution_count": 5,
   "metadata": {},
   "outputs": [],
   "source": [
    "# #filter rari pools for ohm token\n",
    "ohm_keywords =['Olympus', 'OHM', 'ohm', 'olympus', 'Governance OHM']\n",
    "pattern = '|'.join(ohm_keywords)"
   ]
  },
  {
   "cell_type": "code",
   "execution_count": 6,
   "metadata": {},
   "outputs": [
    {
     "name": "stderr",
     "output_type": "stream",
     "text": [
      "/tmp/ipykernel_18384/3629167007.py:13: SettingWithCopyWarning: \n",
      "A value is trying to be set on a copy of a slice from a DataFrame.\n",
      "Try using .loc[row_indexer,col_indexer] = value instead\n",
      "\n",
      "See the caveats in the documentation: https://pandas.pydata.org/pandas-docs/stable/user_guide/indexing.html#returning-a-view-versus-a-copy\n",
      "  liq_df_filter['liquidates_datetime'] = pd.to_datetime(liq_df_filter['liquidates_datetime'])\n",
      "/tmp/ipykernel_18384/3629167007.py:13: SettingWithCopyWarning: \n",
      "A value is trying to be set on a copy of a slice from a DataFrame.\n",
      "Try using .loc[row_indexer,col_indexer] = value instead\n",
      "\n",
      "See the caveats in the documentation: https://pandas.pydata.org/pandas-docs/stable/user_guide/indexing.html#returning-a-view-versus-a-copy\n",
      "  liq_df_filter['liquidates_datetime'] = pd.to_datetime(liq_df_filter['liquidates_datetime'])\n"
     ]
    }
   ],
   "source": [
    "rari_daily_df = preprocess_liq_df(rari_liq_df, pattern, 'rari')\n",
    "vesta_daily_df = preprocess_liq_df(vesta_liq_df, pattern, 'vesta')"
   ]
  },
  {
   "cell_type": "code",
   "execution_count": 7,
   "metadata": {},
   "outputs": [],
   "source": [
    "# combine liquidation dataframes\n",
    "combined_df = pd.concat([vesta_daily_df, rari_daily_df])"
   ]
  },
  {
   "cell_type": "code",
   "execution_count": 8,
   "metadata": {},
   "outputs": [],
   "source": [
    "combined_df = combined_df.groupby('liquidates_datetime').agg({'liquidates_amountUSD': sum})"
   ]
  },
  {
   "cell_type": "code",
   "execution_count": 9,
   "metadata": {},
   "outputs": [
    {
     "data": {
      "text/html": [
       "<div>\n",
       "<style scoped>\n",
       "    .dataframe tbody tr th:only-of-type {\n",
       "        vertical-align: middle;\n",
       "    }\n",
       "\n",
       "    .dataframe tbody tr th {\n",
       "        vertical-align: top;\n",
       "    }\n",
       "\n",
       "    .dataframe thead th {\n",
       "        text-align: right;\n",
       "    }\n",
       "</style>\n",
       "<table border=\"1\" class=\"dataframe\">\n",
       "  <thead>\n",
       "    <tr style=\"text-align: right;\">\n",
       "      <th></th>\n",
       "      <th>liquidates_amountUSD</th>\n",
       "    </tr>\n",
       "    <tr>\n",
       "      <th>liquidates_datetime</th>\n",
       "      <th></th>\n",
       "    </tr>\n",
       "  </thead>\n",
       "  <tbody>\n",
       "    <tr>\n",
       "      <th>2021-07-02</th>\n",
       "      <td>2228.809851</td>\n",
       "    </tr>\n",
       "    <tr>\n",
       "      <th>2021-07-05</th>\n",
       "      <td>21862.096450</td>\n",
       "    </tr>\n",
       "    <tr>\n",
       "      <th>2021-07-06</th>\n",
       "      <td>202841.753227</td>\n",
       "    </tr>\n",
       "    <tr>\n",
       "      <th>2021-07-08</th>\n",
       "      <td>1317.510494</td>\n",
       "    </tr>\n",
       "    <tr>\n",
       "      <th>2021-07-13</th>\n",
       "      <td>4946.100307</td>\n",
       "    </tr>\n",
       "  </tbody>\n",
       "</table>\n",
       "</div>"
      ],
      "text/plain": [
       "                     liquidates_amountUSD\n",
       "liquidates_datetime                      \n",
       "2021-07-02                    2228.809851\n",
       "2021-07-05                   21862.096450\n",
       "2021-07-06                  202841.753227\n",
       "2021-07-08                    1317.510494\n",
       "2021-07-13                    4946.100307"
      ]
     },
     "execution_count": 9,
     "metadata": {},
     "output_type": "execute_result"
    }
   ],
   "source": [
    "combined_df.head(5)"
   ]
  },
  {
   "cell_type": "code",
   "execution_count": 10,
   "metadata": {},
   "outputs": [],
   "source": [
    "# save to csv\n",
    "combined_df.to_csv(\"../../tda_ohm_analysis/data/ohm_liquidations.csv\")"
   ]
  },
  {
   "cell_type": "code",
   "execution_count": null,
   "metadata": {},
   "outputs": [],
   "source": []
  }
 ],
 "metadata": {
  "kernelspec": {
   "display_name": "Python 3.10.6 64-bit",
   "language": "python",
   "name": "python3"
  },
  "language_info": {
   "codemirror_mode": {
    "name": "ipython",
    "version": 3
   },
   "file_extension": ".py",
   "mimetype": "text/x-python",
   "name": "python",
   "nbconvert_exporter": "python",
   "pygments_lexer": "ipython3",
   "version": "3.10.6"
  },
  "orig_nbformat": 4,
  "vscode": {
   "interpreter": {
    "hash": "916dbcbb3f70747c44a77c7bcd40155683ae19c65e1c03b4aa3499c5328201f1"
   }
  }
 },
 "nbformat": 4,
 "nbformat_minor": 2
}
